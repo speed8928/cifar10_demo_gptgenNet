{
 "cells": [
  {
   "cell_type": "code",
   "execution_count": null,
   "id": "73c46482",
   "metadata": {},
   "outputs": [],
   "source": [
    "import torch\n",
    "import time\n",
    "import torchvision\n",
    "import torchvision.transforms as transforms\n",
    "from model.resnet import ResNet, Bottleneck\n",
    "from model.resnet_lite import ResNetLite\n",
    "from calflops import calculate_flops\n",
    "# ---------------------\n",
    "# Load CIFAR-10 test data\n",
    "# ---------------------\n",
    "transform = transforms.Compose([\n",
    "    transforms.ToTensor(),\n",
    "    transforms.Normalize((0.4914, 0.4822, 0.4465),\n",
    "                         (0.2023, 0.1994, 0.2010)),\n",
    "])\n",
    "testset = torchvision.datasets.CIFAR10(root='./data', train=False, download=True, transform=transform)\n",
    "testloader = torch.utils.data.DataLoader(testset, batch_size=128, shuffle=False)"
   ]
  },
  {
   "cell_type": "code",
   "execution_count": null,
   "id": "f450b35e",
   "metadata": {},
   "outputs": [],
   "source": [
    "device = torch.device(\"cpu\")"
   ]
  },
  {
   "cell_type": "code",
   "execution_count": null,
   "id": "0d75c95e",
   "metadata": {},
   "outputs": [],
   "source": [
    "# ---------------------\n",
    "# Load original model\n",
    "# ---------------------\n",
    "model_orig = ResNet(block=Bottleneck, num_blocks=[3, 4, 6, 3], num_classes=10)\n",
    "model_orig.load_state_dict(torch.load(\"checkpoints/resnet50_cifar10.pth\", map_location=device))\n",
    "model_orig.eval()"
   ]
  },
  {
   "cell_type": "markdown",
   "id": "7a72f532",
   "metadata": {},
   "source": [
    "---------------------\n",
    "Load pruned model\n",
    "---------------------"
   ]
  },
  {
   "cell_type": "code",
   "execution_count": null,
   "id": "18f715d1",
   "metadata": {
    "lines_to_next_cell": 1
   },
   "outputs": [],
   "source": [
    "model_pruned = ResNetLite(num_classes=10)\n",
    "model_pruned.load_state_dict(torch.load(\"checkpoints/resnet_lite_cifar10.pth\", map_location=device))\n",
    "model_pruned.eval()"
   ]
  },
  {
   "cell_type": "code",
   "execution_count": null,
   "id": "ebec42cd",
   "metadata": {},
   "outputs": [],
   "source": [
    "# ---------------------\n",
    "# Function to time inference\n",
    "# ---------------------\n",
    "def count_parameters(model):\n",
    "    return sum(p.numel() for p in model.parameters() if p.requires_grad)\n",
    "def benchmark(model, name):\n",
    "\n",
    "\n",
    "    input_shape = (1, 3, 32, 32)\n",
    "    flops, macs, params = calculate_flops(model=model, \n",
    "                                      input_shape=input_shape,\n",
    "                                      output_as_string=True,\n",
    "                                      output_precision=4,\n",
    "                                      print_detailed=False)\n",
    "               \n",
    "    print(\"Model name: %s FLOPs:%s   MACs:%s   Params:%s \\n\" %(name, flops, macs, params))\n",
    "\n",
    "\n",
    "    paras = count_parameters(model)\n",
    "    correct = 0\n",
    "    total = 0\n",
    "    start = time.time()\n",
    "    with torch.no_grad():\n",
    "        for inputs, targets in testloader:\n",
    "            outputs = model(inputs)\n",
    "            _, predicted = outputs.max(1)\n",
    "            total += targets.size(0)\n",
    "            correct += predicted.eq(targets).sum().item()\n",
    "            \n",
    "    end = time.time()\n",
    "    #print(f\"Model parameters for {name}: {paras} \")\n",
    "    print(f\"Inference time for {name}: {end - start:.4f} seconds\")\n",
    "    print(f\"Test Accuracy: {100.*correct/total:.2f}%\")\n",
    "# ---------------------\n",
    "# Run Benchmark\n",
    "# ---------------------\n",
    "print(\"🔁 Benchmarking ResNet-50 Inference on CPU\")\n",
    "benchmark(model_orig, \"Original Model\")\n",
    "benchmark(model_pruned, \"Lite Model\")"
   ]
  }
 ],
 "metadata": {
  "jupytext": {
   "cell_metadata_filter": "-all",
   "main_language": "python",
   "notebook_metadata_filter": "-all"
  }
 },
 "nbformat": 4,
 "nbformat_minor": 5
}
